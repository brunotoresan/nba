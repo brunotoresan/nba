{
 "cells": [
  {
   "cell_type": "code",
   "execution_count": 145,
   "id": "324f9abb",
   "metadata": {},
   "outputs": [],
   "source": [
    "import pandas as pd\n",
    "import numpy as np\n",
    "import matplotlib.pyplot as plt\n",
    "from sklearn.model_selection import train_test_split\n",
    "from sklearn import tree\n",
    "from sklearn import metrics"
   ]
  },
  {
   "cell_type": "code",
   "execution_count": 146,
   "id": "c874ad59",
   "metadata": {},
   "outputs": [],
   "source": [
    "df = pd.read_csv('DadosPartidas.csv', sep = ',')\n",
    "#print(df)\n",
    "#df.describe()\n",
    "#df.info()"
   ]
  },
  {
   "cell_type": "code",
   "execution_count": 239,
   "id": "831fde64",
   "metadata": {},
   "outputs": [],
   "source": [
    "df1 = df.drop(columns=['team', 'match', 'date', 'points'])\n",
    "X = df1.drop(columns='won')\n",
    "\n",
    "y = df1.won\n",
    "X_train, X_test, y_train, y_test = train_test_split(X, y, test_size=0.25, random_state=42)"
   ]
  },
  {
   "cell_type": "code",
   "execution_count": 240,
   "id": "3cbb2f13",
   "metadata": {},
   "outputs": [],
   "source": [
    "clf = tree.DecisionTreeClassifier(max_depth=4) #, min_samples_leaf=5)\n",
    "clf = clf.fit(X_train, y_train)"
   ]
  },
  {
   "cell_type": "code",
   "execution_count": 241,
   "id": "6da6fb55",
   "metadata": {},
   "outputs": [],
   "source": [
    "#tree.plot_tree(clf)\n"
   ]
  },
  {
   "cell_type": "code",
   "execution_count": 242,
   "id": "d6c82935",
   "metadata": {},
   "outputs": [],
   "source": [
    "y_pred = clf.predict(X_test)\n"
   ]
  },
  {
   "cell_type": "code",
   "execution_count": 243,
   "id": "2fcfa80f",
   "metadata": {
    "scrolled": false
   },
   "outputs": [
    {
     "data": {
      "text/plain": [
       "'arvore.pdf'"
      ]
     },
     "execution_count": 243,
     "metadata": {},
     "output_type": "execute_result"
    }
   ],
   "source": [
    "import graphviz\n",
    "\n",
    "dot_data = tree.export_graphviz(clf, out_file=None, \n",
    "                      feature_names=X.columns,  \n",
    "                      #class_names=target_names,  \n",
    "                      filled=True, rounded=True,  \n",
    "                      special_characters=True)  \n",
    "graph = graphviz.Source(dot_data)  \n",
    "graph.render(\"arvore\")\n",
    "#graph"
   ]
  },
  {
   "cell_type": "code",
   "execution_count": 244,
   "id": "72adb80c",
   "metadata": {},
   "outputs": [
    {
     "name": "stdout",
     "output_type": "stream",
     "text": [
      "Accuracy: 0.7314814814814815\n"
     ]
    }
   ],
   "source": [
    "print(\"Accuracy:\",metrics.accuracy_score(y_test, y_pred))\n"
   ]
  },
  {
   "cell_type": "code",
   "execution_count": 411,
   "id": "6931f14a",
   "metadata": {},
   "outputs": [
    {
     "name": "stdout",
     "output_type": "stream",
     "text": [
      "best max_depth : 10, acc: 77.22%\n"
     ]
    },
    {
     "data": {
      "image/png": "[encoded data removed]",
      "text/plain": [
       "<Figure size 432x288 with 1 Axes>"
      ]
     },
     "metadata": {
      "needs_background": "light"
     },
     "output_type": "display_data"
    }
   ],
   "source": [
    "N=14\n",
    "acc = np.zeros(N)\n",
    "clf = np.zeros(N).astype('object')\n",
    "X_train, X_test, y_train, y_test = train_test_split(X, y, test_size=0.25, random_state=42)\n",
    "\n",
    "for i in range(2, N):\n",
    "    clf[i] = tree.DecisionTreeClassifier(max_depth=i, criterion='entropy', min_samples_split=8, min_samples_leaf=1)\n",
    "    clf[i] = clf[i].fit(X_train, y_train)\n",
    "    y_pred = clf[i].predict(X_test)\n",
    "    acc[i] = metrics.accuracy_score(y_test, y_pred)\n",
    "\n",
    "\n",
    "\n",
    "    \n",
    "best_index = np.argmax(acc)\n",
    "dot_data = tree.export_graphviz(clf[best_index], out_file=None, \n",
    "                      feature_names=X.columns,  \n",
    "                      #class_names=target_names,  \n",
    "                      filled=True, rounded=True,  \n",
    "                      special_characters=True)  \n",
    "\n",
    "graph = graphviz.Source(dot_data)  \n",
    "graph.render(\"arvore\")\n",
    "\n",
    "print(\"best max_depth : {}, acc: {:.2f}%\".format(best_index, 100*acc[best_index]))\n",
    "plt.plot(acc[2:])\n",
    "plt.show()"
   ]
  },
  {
   "cell_type": "code",
   "execution_count": 257,
   "id": "2322683e",
   "metadata": {},
   "outputs": [
    {
     "data": {
      "text/plain": [
       "array([0.        , 0.        , 0.67962963, 0.72407407, 0.74814815,\n",
       "       0.74444444, 0.73148148, 0.7537037 , 0.76666667, 0.74259259,\n",
       "       0.77777778, 0.74074074, 0.76111111, 0.74259259])"
      ]
     },
     "execution_count": 257,
     "metadata": {},
     "output_type": "execute_result"
    }
   ],
   "source": [
    "acc"
   ]
  },
  {
   "cell_type": "code",
   "execution_count": null,
   "id": "01c65339",
   "metadata": {},
   "outputs": [],
   "source": []
  }
 ],
 "metadata": {
  "kernelspec": {
   "display_name": "Python 3 (ipykernel)",
   "language": "python",
   "name": "python3"
  },
  "language_info": {
   "codemirror_mode": {
    "name": "ipython",
    "version": 3
   },
   "file_extension": ".py",
   "mimetype": "text/x-python",
   "name": "python",
   "nbconvert_exporter": "python",
   "pygments_lexer": "ipython3",
   "version": "3.8.10"
  }
 },
 "nbformat": 4,
 "nbformat_minor": 5
}
